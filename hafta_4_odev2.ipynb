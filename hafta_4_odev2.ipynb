{
 "cells": [
  {
   "cell_type": "code",
   "execution_count": 1,
   "id": "ac8fe564",
   "metadata": {},
   "outputs": [],
   "source": [
    "#Ödev-1: Kullanıcıdan maaş bilgisini istenir ve bu bilgiye göre maaşından ne kadar vergi kesileceğini hesaplanır. \n",
    "#Kullanıcının geliri;\n",
    "\n",
    " #10000 ve altındaysa maaşından %5 kesinti olur. \n",
    " #25000 ve altındaysa maaşından %10 kesinti olur. \n",
    " #45000 ve altındaysa maaşından %25 kesinti olur. \n",
    " #Diğer koşullarda %30 kesinti olur. "
   ]
  },
  {
   "cell_type": "code",
   "execution_count": 16,
   "id": "a8bc9688",
   "metadata": {},
   "outputs": [
    {
     "name": "stdout",
     "output_type": "stream",
     "text": [
      " Maaşınızı giriniz: 60000\n",
      " Vergi kesintiniz:  18000.0\n",
      " YENİ MAAŞINIZ:  42000.0\n"
     ]
    }
   ],
   "source": [
    "maas = int(input(\" Maaşınızı giriniz: \"))\n",
    "if maas <= 1000 :\n",
    "    vergi_kesintisi = maas * 0.05\n",
    "    print(\" Vergi kesintiniz: \", vergi_kesintisi)\n",
    "    yeni_maas = maas - vergi_kesintisi\n",
    "    print(\" YENİ MAAŞINIZ: \", yeni_maas)\n",
    "    \n",
    "elif maas <= 25000 :\n",
    "    vergi_kesintisi = maas * 0.10\n",
    "    print(\" Vergi kesintiniz: \", vergi_kesintisi)\n",
    "    yeni_maas = maas - vergi_kesintisi\n",
    "    print(\" YENİ MAAŞINIZ: \", yeni_maas)\n",
    "    \n",
    "elif maas <= 45000 :\n",
    "    vergi_kesintisi = maas * 0.25\n",
    "    print(\" Vergi kesintiniz: \", vergi_kesintisi)\n",
    "    yeni_maas = maas - vergi_kesintisi\n",
    "    print(\" YENİ MAAŞINIZ: \", yeni_maas)\n",
    "    \n",
    "else :\n",
    "    vergi_kesintisi = maas * 0.30\n",
    "    print(\" Vergi kesintiniz: \", vergi_kesintisi)\n",
    "    yeni_maas = maas - vergi_kesintisi\n",
    "    print(\" YENİ MAAŞINIZ: \", yeni_maas)"
   ]
  },
  {
   "cell_type": "code",
   "execution_count": null,
   "id": "04d50889",
   "metadata": {},
   "outputs": [],
   "source": [
    "#Ödev-2: Kullanıcıdan kullanıcı adı ve şifre oluşturmasını istenir. Şifrenin uzunluğu altı haneye ulaşmışsa hesabınız\n",
    "#oluşturuldu mesajı alınır, altı haneden azsa altı haneli şifre oluşturması gerektiğinin mesajı alınır. \n",
    "#(Sadece koşul kullanılması yeterli.)"
   ]
  },
  {
   "cell_type": "code",
   "execution_count": 2,
   "id": "3b7d18b6",
   "metadata": {},
   "outputs": [
    {
     "name": "stdout",
     "output_type": "stream",
     "text": [
      " kullanıcı adı giriniz: helin\n",
      " Şifre giriniz: 7878\n",
      " En az altı haneli şifre oluşturmalısınız \n"
     ]
    }
   ],
   "source": [
    "kullanici_adi = input(\" kullanıcı adı giriniz: \")\n",
    "sifre = (input(\" Şifre giriniz: \"))\n",
    "         \n",
    "if len(sifre) >= 6 :\n",
    "         print(\" şifreniz oluşturuldu \")\n",
    "    \n",
    "elif len(sifre) < 6 :\n",
    "    print(\" En az altı haneli şifre oluşturmalısınız \")"
   ]
  },
  {
   "cell_type": "code",
   "execution_count": null,
   "id": "d8c95e03",
   "metadata": {},
   "outputs": [],
   "source": [
    "#Ödev-3: Bir önceki örnek geliştirilir.\n",
    "\n",
    " #Kullanıcı girdiği şifre 5 ve 10 hane arasında olmak zorunda. \n",
    " #Eğer bu koşula uyuyorsa \"Hesabınız oluşturuldu.\" mesajı alır. \n",
    " #Koşulu sağlamıyorsa \"Lütfen girdiniz şifre 5 haneden az 10 haneden fazla olmasın!\" uyarısı alır. \n",
    " #Bunu oluştururken kullanıcı istediğimiz şartlarda şifre oluşturana kadar sormaya devam eder "
   ]
  },
  {
   "cell_type": "code",
   "execution_count": 1,
   "id": "b7261693",
   "metadata": {},
   "outputs": [
    {
     "name": "stdout",
     "output_type": "stream",
     "text": [
      "Şifre giriniz: 7878\n",
      "Lütfen girdiğiniz şifre 5 haneden az, 10 haneden fazla olmasın!\n",
      "Şifre giriniz: 78787878\n",
      "Hesabınız oluşturuldu\n"
     ]
    }
   ],
   "source": [
    "while True:\n",
    "    sifre = input(\"Şifre giriniz: \")\n",
    "\n",
    "    if 5 < len(sifre) < 10:\n",
    "        print(\"Hesabınız oluşturuldu\")\n",
    "        break\n",
    "    else:\n",
    "        print(\"Lütfen girdiğiniz şifre 5 haneden az, 10 haneden fazla olmasın!\")"
   ]
  },
  {
   "cell_type": "code",
   "execution_count": null,
   "id": "d2ebecbd",
   "metadata": {},
   "outputs": [],
   "source": [
    "#Ödev-4: Kullanıcıdan isim ve şifre isteyeceğiz ve şifre girişi için üç hak verilir.\n",
    "\n",
    " #Eğer önceden tanımlı şifre ile kullanıcıdan gelen şifre aynıysa \"Giriş yapıldı.\" yazar. \n",
    " #Şifre girişi yanlışsa \"Yanlış şifre girildi!\" uyarısı verilsin ve üç yanlış denemede program biter. \n",
    " #Tercihe göre kalan hak bilgisi verilir. "
   ]
  },
  {
   "cell_type": "code",
   "execution_count": null,
   "id": "8a9896f6",
   "metadata": {},
   "outputs": [],
   "source": [
    "a = 0\n",
    "\n",
    "kullanici_adi = input(\" Kullanıcı adınızı giriniz: \")\n",
    "sifre = input(\" Şifrenizi giriniz: \")\n",
    "tanimli_sifre = \"123456\"\n",
    "\n",
    "while a <= 3 :\n",
    "      if tanimli_sifre == sifre :\n",
    "        print(\" Giriş Yapıldı!\")\n",
    "        break\n",
    "    else :\n",
    "    a += 1\n",
    "    print( \" Yanlış şifre girildi\" )\n",
    "    print(\" Kalan Hak:\", 3-a )\n",
    "    \n",
    "if a == 3:\n",
    "    print(\"Giriş hakkınız doldu.\")\n",
    "\n",
    "    "
   ]
  },
  {
   "cell_type": "code",
   "execution_count": 5,
   "id": "4889a1be",
   "metadata": {},
   "outputs": [
    {
     "name": "stdout",
     "output_type": "stream",
     "text": [
      "Kullanıcı adınızı giriniz: helin\n",
      "Şifrenizi giriniz: 1234\n",
      "Yanlış şifre girildi\n",
      "Kalan Hak: 2\n",
      "Yanlış şifre girildi\n",
      "Kalan Hak: 1\n",
      "Yanlış şifre girildi\n",
      "Kalan Hak: 0\n",
      "Yanlış şifre girildi\n",
      "Kalan Hak: -1\n"
     ]
    }
   ],
   "source": [
    "a = 0\n",
    "\n",
    "kullanici_adi = input(\"Kullanıcı adınızı giriniz: \")\n",
    "sifre = input(\"Şifrenizi giriniz: \")\n",
    "tanimli_sifre = \"123456\"\n",
    "\n",
    "while a <= 3:\n",
    "    if tanimli_sifre == sifre:\n",
    "        print(\"Giriş Yapıldı!\")\n",
    "        break\n",
    "    else:\n",
    "        a += 1\n",
    "        print(\"Yanlış şifre girildi\")\n",
    "        print(\"Kalan Hak:\", 3 - a)\n",
    "\n",
    "if a == 3:\n",
    "    print(\"Giriş hakkınız doldu.\")"
   ]
  },
  {
   "cell_type": "code",
   "execution_count": null,
   "id": "b7594644",
   "metadata": {},
   "outputs": [],
   "source": [
    "a = 0\n",
    "\n",
    "kullanici_adi = input(\"Kullanıcı adınızı giriniz: \")\n",
    "sifre = input(\"Şifrenizi giriniz: \")\n",
    "tanimli_sifre = \"123456\"\n",
    "\n",
    "while True :\n",
    "    a < 3\n",
    "    if tanimli_sifre == sifre:\n",
    "        print(\"Giriş Yapıldı!\")\n",
    "        break\n",
    "    else:\n",
    "        a += 1\n",
    "        print(\"Yanlış şifre girildi\")\n",
    "        if a < 3:\n",
    "            print(\"Kalan Hak:\", 3 - a)\n",
    "\n",
    "else :\n",
    "    a == 3  \n",
    "    print(\"Giriş hakkınız doldu.\")\n",
    "    \n",
    "    \n",
    "#!!!!!!! şifre isteme işini döngünün içinde yapmazsan yanlış şifre girdiğinde tekrar şifre girmeni istemez!!!!!!"
   ]
  },
  {
   "cell_type": "code",
   "execution_count": 17,
   "id": "73f48ba0",
   "metadata": {},
   "outputs": [
    {
     "name": "stdout",
     "output_type": "stream",
     "text": [
      "Kullanıcı adınızı giriniz: helin\n",
      "Şifrenizi giriniz: 1234\n",
      "Yanlış şifre girildi\n",
      "Kalan Hak: 2\n",
      "Şifrenizi giriniz: 1324\n",
      "Yanlış şifre girildi\n",
      "Kalan Hak: 1\n",
      "Şifrenizi giriniz: 1234\n",
      "Yanlış şifre girildi\n",
      "Giriş hakkınız doldu.\n"
     ]
    }
   ],
   "source": [
    "a = 0\n",
    "\n",
    "kullanici_adi = input(\"Kullanıcı adınızı giriniz: \")\n",
    "tanimli_sifre = \"123456\"\n",
    "\n",
    "while a < 3:\n",
    "    sifre = input(\"Şifrenizi giriniz: \")\n",
    "    if tanimli_sifre == sifre:\n",
    "        print(\"Giriş Yapıldı!\")\n",
    "        break\n",
    "    else:\n",
    "        a += 1\n",
    "        print(\"Yanlış şifre girildi\")\n",
    "        if a < 3:\n",
    "            print(\"Kalan Hak:\", 3 - a)\n",
    "\n",
    "if a == 3:\n",
    "    print(\"Giriş hakkınız doldu.\")"
   ]
  }
 ],
 "metadata": {
  "kernelspec": {
   "display_name": "Python 3 (ipykernel)",
   "language": "python",
   "name": "python3"
  },
  "language_info": {
   "codemirror_mode": {
    "name": "ipython",
    "version": 3
   },
   "file_extension": ".py",
   "mimetype": "text/x-python",
   "name": "python",
   "nbconvert_exporter": "python",
   "pygments_lexer": "ipython3",
   "version": "3.9.13"
  }
 },
 "nbformat": 4,
 "nbformat_minor": 5
}
